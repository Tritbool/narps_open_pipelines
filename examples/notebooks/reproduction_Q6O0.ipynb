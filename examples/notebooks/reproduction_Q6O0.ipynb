{
 "cells": [
  {
   "cell_type": "markdown",
   "id": "e8ed6209",
   "metadata": {},
   "source": [
    "# FMRI DATA ANALYSIS - NARPS DATASET BY TEAM Q6O0\n",
    "\n",
    "This notebook reproduce the analysis made by team **Q6O0** for the NARPS experiment (Botvinik-Nezer & al, 2020). \n",
    "\n",
    "**To use this notebook :** \n",
    "- Download fMRIprep data available [**here**](https://openneuro.org/datasets/ds001734/versions/1.0.4) or in [**datalad**](http://datasets.datalad.org/?dir=/workshops/nih-2017/ds001734).\n",
    "- Modify the paths:\n",
    "    - **exp_dir**: directory where the ds001734-download repository is stored\n",
    "    - **result_dir**: directory where the intermediate and final repositories will be stored\n",
    "    - **working_dir**: name of the directory where intermediate results will be stored\n",
    "    - **output_dir**: name of the directory where final results will be stored\n",
    "\n",
    "Botvinik-Nezer, R., Holzmeister, F., Camerer, C.F., Dreber, A., Huber, J., Johannesson, M., Kirchler, M., Iwanir, R., Mumford, J.A., ..., Nichols, T.E., Poldrack, R.A., Schonberg, T. (2020). Variability in the analysis of a single neuroimaging dataset by many teams. Nature. https://doi.org/10.1038/s41586-020-2314-9."
   ]
  },
  {
   "cell_type": "code",
   "execution_count": 1,
   "id": "1ff14594",
   "metadata": {
    "ExecuteTime": {
     "end_time": "2024-04-05T14:31:54.762298Z",
     "start_time": "2024-04-05T14:31:51.405970Z"
    }
   },
   "outputs": [
    {
     "name": "stderr",
     "output_type": "stream",
     "text": [
      "stty: 'standard input': Inappropriate ioctl for device\n"
     ]
    }
   ],
   "source": [
    "# Set the path to matlab \n",
    "## NECESSARY TO USE SPM\n",
    "from nipype.interfaces import spm\n",
    "matlab_cmd = '/opt/spm12-r7219/run_spm12.sh /opt/matlabmcr-2010a/v713/ script'\n",
    "spm.SPMCommand.set_mlab_paths(matlab_cmd=matlab_cmd, use_mcr=True)"
   ]
  },
  {
   "cell_type": "code",
   "execution_count": 2,
   "id": "d564f81d",
   "metadata": {
    "ExecuteTime": {
     "end_time": "2024-04-05T14:31:59.078208Z",
     "start_time": "2024-04-05T14:31:59.074288Z"
    }
   },
   "outputs": [],
   "source": [
    "import narps_open\n",
    "from narps_open import pipelines\n",
    "from importlib import *\n",
    "from narps_open.pipelines import *\n",
    "from os.path import join as opj\n",
    "import os\n",
    "import json\n",
    "import pickle"
   ]
  },
  {
   "cell_type": "code",
   "execution_count": 3,
   "id": "cf70c343-5530-4b01-a572-32d15d1aa9ad",
   "metadata": {
    "ExecuteTime": {
     "end_time": "2024-04-05T14:31:59.372323Z",
     "start_time": "2024-04-05T14:31:59.355279Z"
    }
   },
   "outputs": [
    {
     "name": "stdout",
     "output_type": "stream",
     "text": [
      "240405-16:50:24,832 nipype.utils WARNING:\n",
      "\t No metadata was found in the pkl file. Make sure you are currently using the same Nipype version from the generated pkl.\n"
     ]
    },
    {
     "ename": "TraitError",
     "evalue": "Each element of the 'in_files' trait of a SmoothInputSpec instance must be a pathlike object or string representing an existing file, but a value of '/home/tritbool/workspace/narps_open_pipelines/data/reproduced/NARPS-Q6O0-reproduced/intermediate_results/l1_analysis/_subject_id_001/gunzip_func/mapflow/_gunzip_func0/sub-001_task-MGT_run-01_bold_space-MNI152NLin2009cAsym_preproc.nii' <class 'str'> was specified.",
     "output_type": "error",
     "traceback": [
      "\u001b[0;31m---------------------------------------------------------------------------\u001b[0m",
      "\u001b[0;31mTraitError\u001b[0m                                Traceback (most recent call last)",
      "Cell \u001b[0;32mIn[3], line 2\u001b[0m\n\u001b[1;32m      1\u001b[0m \u001b[38;5;28;01mfrom\u001b[39;00m \u001b[38;5;21;01mnipype\u001b[39;00m\u001b[38;5;21;01m.\u001b[39;00m\u001b[38;5;21;01mutils\u001b[39;00m\u001b[38;5;21;01m.\u001b[39;00m\u001b[38;5;21;01mfilemanip\u001b[39;00m \u001b[38;5;28;01mimport\u001b[39;00m loadpkl\n\u001b[0;32m----> 2\u001b[0m res \u001b[38;5;241m=\u001b[39m \u001b[43mloadpkl\u001b[49m\u001b[43m(\u001b[49m\u001b[38;5;124;43m'\u001b[39;49m\u001b[38;5;124;43mcrash-20240405-160538-tritbool-smooth.a0-86797edd-e9b0-42ee-bc40-a2a40195eb3c.pklz\u001b[39;49m\u001b[38;5;124;43m'\u001b[39;49m\u001b[43m)\u001b[49m\n\u001b[1;32m      3\u001b[0m res\n",
      "File \u001b[0;32m~/workspace/narps_open_pipelines/narps/lib/python3.10/site-packages/nipype/utils/filemanip.py:666\u001b[0m, in \u001b[0;36mloadpkl\u001b[0;34m(infile)\u001b[0m\n\u001b[1;32m    660\u001b[0m                 \u001b[38;5;28;01mraise\u001b[39;00m e\n\u001b[1;32m    661\u001b[0m         fmlogger\u001b[38;5;241m.\u001b[39mwarning(\n\u001b[1;32m    662\u001b[0m \u001b[38;5;250m            \u001b[39m\u001b[38;5;124;03m\"\"\"\\\u001b[39;00m\n\u001b[1;32m    663\u001b[0m \u001b[38;5;124;03mNo metadata was found in the pkl file. Make sure you are currently using \\\u001b[39;00m\n\u001b[1;32m    664\u001b[0m \u001b[38;5;124;03mthe same Nipype version from the generated pkl.\"\"\"\u001b[39;00m\n\u001b[1;32m    665\u001b[0m         )\n\u001b[0;32m--> 666\u001b[0m         \u001b[38;5;28;01mraise\u001b[39;00m e\n\u001b[1;32m    668\u001b[0m     \u001b[38;5;28;01mif\u001b[39;00m unpkl \u001b[38;5;129;01mis\u001b[39;00m \u001b[38;5;28;01mNone\u001b[39;00m:\n\u001b[1;32m    669\u001b[0m         \u001b[38;5;28;01mraise\u001b[39;00m \u001b[38;5;167;01mValueError\u001b[39;00m(\u001b[38;5;124m\"\u001b[39m\u001b[38;5;124mLoading \u001b[39m\u001b[38;5;132;01m%s\u001b[39;00m\u001b[38;5;124m resulted in None.\u001b[39m\u001b[38;5;124m\"\u001b[39m \u001b[38;5;241m%\u001b[39m infile)\n",
      "File \u001b[0;32m~/workspace/narps_open_pipelines/narps/lib/python3.10/site-packages/nipype/utils/filemanip.py:643\u001b[0m, in \u001b[0;36mloadpkl\u001b[0;34m(infile)\u001b[0m\n\u001b[1;32m    641\u001b[0m \u001b[38;5;28;01mtry\u001b[39;00m:\n\u001b[1;32m    642\u001b[0m     \u001b[38;5;28;01mwith\u001b[39;00m indirectory(infile\u001b[38;5;241m.\u001b[39mparent):\n\u001b[0;32m--> 643\u001b[0m         unpkl \u001b[38;5;241m=\u001b[39m \u001b[43mpickle\u001b[49m\u001b[38;5;241;43m.\u001b[39;49m\u001b[43mloads\u001b[49m\u001b[43m(\u001b[49m\u001b[43mpkl_contents\u001b[49m\u001b[43m)\u001b[49m\n\u001b[1;32m    644\u001b[0m \u001b[38;5;28;01mexcept\u001b[39;00m \u001b[38;5;167;01mUnicodeDecodeError\u001b[39;00m:\n\u001b[1;32m    645\u001b[0m     \u001b[38;5;66;03m# Was this pickle created with Python 2.x?\u001b[39;00m\n\u001b[1;32m    646\u001b[0m     \u001b[38;5;28;01mwith\u001b[39;00m indirectory(infile\u001b[38;5;241m.\u001b[39mparent):\n",
      "File \u001b[0;32m~/workspace/narps_open_pipelines/narps/lib/python3.10/site-packages/traits/has_traits.py:1410\u001b[0m, in \u001b[0;36mHasTraits.__setstate__\u001b[0;34m(self, state, trait_change_notify)\u001b[0m\n\u001b[1;32m   1408\u001b[0m \u001b[38;5;28mself\u001b[39m\u001b[38;5;241m.\u001b[39m_init_trait_listeners()\n\u001b[1;32m   1409\u001b[0m \u001b[38;5;28mself\u001b[39m\u001b[38;5;241m.\u001b[39m_init_trait_observers()\n\u001b[0;32m-> 1410\u001b[0m \u001b[38;5;28;43mself\u001b[39;49m\u001b[38;5;241;43m.\u001b[39;49m\u001b[43mtrait_set\u001b[49m\u001b[43m(\u001b[49m\u001b[43mtrait_change_notify\u001b[49m\u001b[38;5;241;43m=\u001b[39;49m\u001b[43mtrait_change_notify\u001b[49m\u001b[43m,\u001b[49m\u001b[43m \u001b[49m\u001b[38;5;241;43m*\u001b[39;49m\u001b[38;5;241;43m*\u001b[39;49m\u001b[43mstate\u001b[49m\u001b[43m)\u001b[49m\n\u001b[1;32m   1411\u001b[0m \u001b[38;5;28mself\u001b[39m\u001b[38;5;241m.\u001b[39m_post_init_trait_listeners()\n\u001b[1;32m   1412\u001b[0m \u001b[38;5;28mself\u001b[39m\u001b[38;5;241m.\u001b[39m_post_init_trait_observers()\n",
      "File \u001b[0;32m~/workspace/narps_open_pipelines/narps/lib/python3.10/site-packages/traits/has_traits.py:1520\u001b[0m, in \u001b[0;36mHasTraits.trait_set\u001b[0;34m(self, trait_change_notify, **traits)\u001b[0m\n\u001b[1;32m   1518\u001b[0m \u001b[38;5;28;01melse\u001b[39;00m:\n\u001b[1;32m   1519\u001b[0m     \u001b[38;5;28;01mfor\u001b[39;00m name, value \u001b[38;5;129;01min\u001b[39;00m traits\u001b[38;5;241m.\u001b[39mitems():\n\u001b[0;32m-> 1520\u001b[0m         \u001b[38;5;28;43msetattr\u001b[39;49m\u001b[43m(\u001b[49m\u001b[38;5;28;43mself\u001b[39;49m\u001b[43m,\u001b[49m\u001b[43m \u001b[49m\u001b[43mname\u001b[49m\u001b[43m,\u001b[49m\u001b[43m \u001b[49m\u001b[43mvalue\u001b[49m\u001b[43m)\u001b[49m\n\u001b[1;32m   1522\u001b[0m \u001b[38;5;28;01mreturn\u001b[39;00m \u001b[38;5;28mself\u001b[39m\n",
      "File \u001b[0;32m~/workspace/narps_open_pipelines/narps/lib/python3.10/site-packages/nipype/interfaces/base/traits_extension.py:424\u001b[0m, in \u001b[0;36mMultiObject.validate\u001b[0;34m(self, objekt, name, value)\u001b[0m\n\u001b[1;32m    418\u001b[0m \u001b[38;5;28;01mif\u001b[39;00m \u001b[38;5;129;01mnot\u001b[39;00m \u001b[38;5;28misinstance\u001b[39m(value, \u001b[38;5;28mlist\u001b[39m) \u001b[38;5;129;01mor\u001b[39;00m (\n\u001b[1;32m    419\u001b[0m     \u001b[38;5;28misinstance\u001b[39m(inner_trait\u001b[38;5;241m.\u001b[39mtrait_type, traits\u001b[38;5;241m.\u001b[39mList)\n\u001b[1;32m    420\u001b[0m     \u001b[38;5;129;01mand\u001b[39;00m \u001b[38;5;129;01mnot\u001b[39;00m \u001b[38;5;28misinstance\u001b[39m(inner_trait\u001b[38;5;241m.\u001b[39mtrait_type, InputMultiObject)\n\u001b[1;32m    421\u001b[0m     \u001b[38;5;129;01mand\u001b[39;00m \u001b[38;5;129;01mnot\u001b[39;00m \u001b[38;5;28misinstance\u001b[39m(value[\u001b[38;5;241m0\u001b[39m], \u001b[38;5;28mlist\u001b[39m)\n\u001b[1;32m    422\u001b[0m ):\n\u001b[1;32m    423\u001b[0m     newvalue \u001b[38;5;241m=\u001b[39m [value]\n\u001b[0;32m--> 424\u001b[0m value \u001b[38;5;241m=\u001b[39m \u001b[38;5;28;43msuper\u001b[39;49m\u001b[43m(\u001b[49m\u001b[43mMultiObject\u001b[49m\u001b[43m,\u001b[49m\u001b[43m \u001b[49m\u001b[38;5;28;43mself\u001b[39;49m\u001b[43m)\u001b[49m\u001b[38;5;241;43m.\u001b[39;49m\u001b[43mvalidate\u001b[49m\u001b[43m(\u001b[49m\u001b[43mobjekt\u001b[49m\u001b[43m,\u001b[49m\u001b[43m \u001b[49m\u001b[43mname\u001b[49m\u001b[43m,\u001b[49m\u001b[43m \u001b[49m\u001b[43mnewvalue\u001b[49m\u001b[43m)\u001b[49m\n\u001b[1;32m    426\u001b[0m \u001b[38;5;28;01mif\u001b[39;00m value:\n\u001b[1;32m    427\u001b[0m     \u001b[38;5;28;01mreturn\u001b[39;00m value\n",
      "File \u001b[0;32m~/workspace/narps_open_pipelines/narps/lib/python3.10/site-packages/traits/trait_types.py:2699\u001b[0m, in \u001b[0;36mList.validate\u001b[0;34m(self, object, name, value)\u001b[0m\n\u001b[1;32m   2696\u001b[0m     \u001b[38;5;28;01mif\u001b[39;00m \u001b[38;5;28mobject\u001b[39m \u001b[38;5;129;01mis\u001b[39;00m \u001b[38;5;28;01mNone\u001b[39;00m:\n\u001b[1;32m   2697\u001b[0m         \u001b[38;5;28;01mreturn\u001b[39;00m value\n\u001b[0;32m-> 2699\u001b[0m     \u001b[38;5;28;01mreturn\u001b[39;00m \u001b[43mTraitListObject\u001b[49m\u001b[43m(\u001b[49m\u001b[38;5;28;43mself\u001b[39;49m\u001b[43m,\u001b[49m\u001b[43m \u001b[49m\u001b[38;5;28;43mobject\u001b[39;49m\u001b[43m,\u001b[49m\u001b[43m \u001b[49m\u001b[43mname\u001b[49m\u001b[43m,\u001b[49m\u001b[43m \u001b[49m\u001b[43mvalue\u001b[49m\u001b[43m)\u001b[49m\n\u001b[1;32m   2701\u001b[0m \u001b[38;5;28mself\u001b[39m\u001b[38;5;241m.\u001b[39merror(\u001b[38;5;28mobject\u001b[39m, name, value)\n",
      "File \u001b[0;32m~/workspace/narps_open_pipelines/narps/lib/python3.10/site-packages/traits/trait_list_object.py:582\u001b[0m, in \u001b[0;36mTraitListObject.__init__\u001b[0;34m(self, trait, object, name, value)\u001b[0m\n\u001b[1;32m    579\u001b[0m value \u001b[38;5;241m=\u001b[39m \u001b[38;5;28mlist\u001b[39m(value)\n\u001b[1;32m    580\u001b[0m \u001b[38;5;28mself\u001b[39m\u001b[38;5;241m.\u001b[39m_validate_length(\u001b[38;5;28mlen\u001b[39m(value))\n\u001b[0;32m--> 582\u001b[0m \u001b[38;5;28;43msuper\u001b[39;49m\u001b[43m(\u001b[49m\u001b[43m)\u001b[49m\u001b[38;5;241;43m.\u001b[39;49m\u001b[38;5;21;43m__init__\u001b[39;49m\u001b[43m(\u001b[49m\n\u001b[1;32m    583\u001b[0m \u001b[43m    \u001b[49m\u001b[43mvalue\u001b[49m\u001b[43m,\u001b[49m\n\u001b[1;32m    584\u001b[0m \u001b[43m    \u001b[49m\u001b[43mitem_validator\u001b[49m\u001b[38;5;241;43m=\u001b[39;49m\u001b[38;5;28;43mself\u001b[39;49m\u001b[38;5;241;43m.\u001b[39;49m\u001b[43m_item_validator\u001b[49m\u001b[43m,\u001b[49m\n\u001b[1;32m    585\u001b[0m \u001b[43m    \u001b[49m\u001b[43mnotifiers\u001b[49m\u001b[38;5;241;43m=\u001b[39;49m\u001b[43m[\u001b[49m\u001b[38;5;28;43mself\u001b[39;49m\u001b[38;5;241;43m.\u001b[39;49m\u001b[43mnotifier\u001b[49m\u001b[43m]\u001b[49m\u001b[43m,\u001b[49m\n\u001b[1;32m    586\u001b[0m \u001b[43m\u001b[49m\u001b[43m)\u001b[49m\n",
      "File \u001b[0;32m~/workspace/narps_open_pipelines/narps/lib/python3.10/site-packages/traits/trait_list_object.py:213\u001b[0m, in \u001b[0;36mTraitList.__init__\u001b[0;34m(self, iterable, item_validator, notifiers)\u001b[0m\n\u001b[1;32m    211\u001b[0m \u001b[38;5;28;01mif\u001b[39;00m item_validator \u001b[38;5;129;01mis\u001b[39;00m \u001b[38;5;129;01mnot\u001b[39;00m \u001b[38;5;28;01mNone\u001b[39;00m:\n\u001b[1;32m    212\u001b[0m     \u001b[38;5;28mself\u001b[39m\u001b[38;5;241m.\u001b[39mitem_validator \u001b[38;5;241m=\u001b[39m item_validator\n\u001b[0;32m--> 213\u001b[0m \u001b[38;5;28;43msuper\u001b[39;49m\u001b[43m(\u001b[49m\u001b[43m)\u001b[49m\u001b[38;5;241;43m.\u001b[39;49m\u001b[38;5;21;43m__init__\u001b[39;49m\u001b[43m(\u001b[49m\u001b[38;5;28;43mself\u001b[39;49m\u001b[38;5;241;43m.\u001b[39;49m\u001b[43mitem_validator\u001b[49m\u001b[43m(\u001b[49m\u001b[43mitem\u001b[49m\u001b[43m)\u001b[49m\u001b[43m \u001b[49m\u001b[38;5;28;43;01mfor\u001b[39;49;00m\u001b[43m \u001b[49m\u001b[43mitem\u001b[49m\u001b[43m \u001b[49m\u001b[38;5;129;43;01min\u001b[39;49;00m\u001b[43m \u001b[49m\u001b[43miterable\u001b[49m\u001b[43m)\u001b[49m\n\u001b[1;32m    214\u001b[0m \u001b[38;5;28;01mif\u001b[39;00m notifiers \u001b[38;5;129;01mis\u001b[39;00m \u001b[38;5;129;01mnot\u001b[39;00m \u001b[38;5;28;01mNone\u001b[39;00m:\n\u001b[1;32m    215\u001b[0m     \u001b[38;5;28mself\u001b[39m\u001b[38;5;241m.\u001b[39mnotifiers \u001b[38;5;241m=\u001b[39m \u001b[38;5;28mlist\u001b[39m(notifiers)\n",
      "File \u001b[0;32m~/workspace/narps_open_pipelines/narps/lib/python3.10/site-packages/traits/trait_list_object.py:213\u001b[0m, in \u001b[0;36m<genexpr>\u001b[0;34m(.0)\u001b[0m\n\u001b[1;32m    211\u001b[0m \u001b[38;5;28;01mif\u001b[39;00m item_validator \u001b[38;5;129;01mis\u001b[39;00m \u001b[38;5;129;01mnot\u001b[39;00m \u001b[38;5;28;01mNone\u001b[39;00m:\n\u001b[1;32m    212\u001b[0m     \u001b[38;5;28mself\u001b[39m\u001b[38;5;241m.\u001b[39mitem_validator \u001b[38;5;241m=\u001b[39m item_validator\n\u001b[0;32m--> 213\u001b[0m \u001b[38;5;28msuper\u001b[39m()\u001b[38;5;241m.\u001b[39m\u001b[38;5;21m__init__\u001b[39m(\u001b[38;5;28;43mself\u001b[39;49m\u001b[38;5;241;43m.\u001b[39;49m\u001b[43mitem_validator\u001b[49m\u001b[43m(\u001b[49m\u001b[43mitem\u001b[49m\u001b[43m)\u001b[49m \u001b[38;5;28;01mfor\u001b[39;00m item \u001b[38;5;129;01min\u001b[39;00m iterable)\n\u001b[1;32m    214\u001b[0m \u001b[38;5;28;01mif\u001b[39;00m notifiers \u001b[38;5;129;01mis\u001b[39;00m \u001b[38;5;129;01mnot\u001b[39;00m \u001b[38;5;28;01mNone\u001b[39;00m:\n\u001b[1;32m    215\u001b[0m     \u001b[38;5;28mself\u001b[39m\u001b[38;5;241m.\u001b[39mnotifiers \u001b[38;5;241m=\u001b[39m \u001b[38;5;28mlist\u001b[39m(notifiers)\n",
      "File \u001b[0;32m~/workspace/narps_open_pipelines/narps/lib/python3.10/site-packages/traits/trait_list_object.py:865\u001b[0m, in \u001b[0;36mTraitListObject._item_validator\u001b[0;34m(self, value)\u001b[0m\n\u001b[1;32m    862\u001b[0m     \u001b[38;5;28;01mreturn\u001b[39;00m value\n\u001b[1;32m    864\u001b[0m \u001b[38;5;28;01mtry\u001b[39;00m:\n\u001b[0;32m--> 865\u001b[0m     \u001b[38;5;28;01mreturn\u001b[39;00m \u001b[43mtrait_validator\u001b[49m\u001b[43m(\u001b[49m\u001b[38;5;28;43mobject\u001b[39;49m\u001b[43m,\u001b[49m\u001b[43m \u001b[49m\u001b[38;5;28;43mself\u001b[39;49m\u001b[38;5;241;43m.\u001b[39;49m\u001b[43mname\u001b[49m\u001b[43m,\u001b[49m\u001b[43m \u001b[49m\u001b[43mvalue\u001b[49m\u001b[43m)\u001b[49m\n\u001b[1;32m    866\u001b[0m \u001b[38;5;28;01mexcept\u001b[39;00m TraitError \u001b[38;5;28;01mas\u001b[39;00m excp:\n\u001b[1;32m    867\u001b[0m     excp\u001b[38;5;241m.\u001b[39mset_prefix(\u001b[38;5;124m\"\u001b[39m\u001b[38;5;124mEach element of the\u001b[39m\u001b[38;5;124m\"\u001b[39m)\n",
      "File \u001b[0;32m~/workspace/narps_open_pipelines/narps/lib/python3.10/site-packages/nipype/interfaces/base/traits_extension.py:330\u001b[0m, in \u001b[0;36mFile.validate\u001b[0;34m(self, objekt, name, value, return_pathlike)\u001b[0m\n\u001b[1;32m    328\u001b[0m \u001b[38;5;28;01mdef\u001b[39;00m \u001b[38;5;21mvalidate\u001b[39m(\u001b[38;5;28mself\u001b[39m, objekt, name, value, return_pathlike\u001b[38;5;241m=\u001b[39m\u001b[38;5;28;01mFalse\u001b[39;00m):\n\u001b[1;32m    329\u001b[0m \u001b[38;5;250m    \u001b[39m\u001b[38;5;124;03m\"\"\"Validate a value change.\"\"\"\u001b[39;00m\n\u001b[0;32m--> 330\u001b[0m     value \u001b[38;5;241m=\u001b[39m \u001b[38;5;28;43msuper\u001b[39;49m\u001b[43m(\u001b[49m\u001b[43mFile\u001b[49m\u001b[43m,\u001b[49m\u001b[43m \u001b[49m\u001b[38;5;28;43mself\u001b[39;49m\u001b[43m)\u001b[49m\u001b[38;5;241;43m.\u001b[39;49m\u001b[43mvalidate\u001b[49m\u001b[43m(\u001b[49m\u001b[43mobjekt\u001b[49m\u001b[43m,\u001b[49m\u001b[43m \u001b[49m\u001b[43mname\u001b[49m\u001b[43m,\u001b[49m\u001b[43m \u001b[49m\u001b[43mvalue\u001b[49m\u001b[43m,\u001b[49m\u001b[43m \u001b[49m\u001b[43mreturn_pathlike\u001b[49m\u001b[38;5;241;43m=\u001b[39;49m\u001b[38;5;28;43;01mTrue\u001b[39;49;00m\u001b[43m)\u001b[49m\n\u001b[1;32m    331\u001b[0m     \u001b[38;5;28;01mif\u001b[39;00m \u001b[38;5;28mself\u001b[39m\u001b[38;5;241m.\u001b[39m_exts:\n\u001b[1;32m    332\u001b[0m         fname \u001b[38;5;241m=\u001b[39m value\u001b[38;5;241m.\u001b[39mname\n",
      "File \u001b[0;32m~/workspace/narps_open_pipelines/narps/lib/python3.10/site-packages/nipype/interfaces/base/traits_extension.py:135\u001b[0m, in \u001b[0;36mBasePath.validate\u001b[0;34m(self, objekt, name, value, return_pathlike)\u001b[0m\n\u001b[1;32m    133\u001b[0m \u001b[38;5;28;01mif\u001b[39;00m \u001b[38;5;28mself\u001b[39m\u001b[38;5;241m.\u001b[39mexists:\n\u001b[1;32m    134\u001b[0m     \u001b[38;5;28;01mif\u001b[39;00m \u001b[38;5;129;01mnot\u001b[39;00m value\u001b[38;5;241m.\u001b[39mexists():\n\u001b[0;32m--> 135\u001b[0m         \u001b[38;5;28;43mself\u001b[39;49m\u001b[38;5;241;43m.\u001b[39;49m\u001b[43merror\u001b[49m\u001b[43m(\u001b[49m\u001b[43mobjekt\u001b[49m\u001b[43m,\u001b[49m\u001b[43m \u001b[49m\u001b[43mname\u001b[49m\u001b[43m,\u001b[49m\u001b[43m \u001b[49m\u001b[38;5;28;43mstr\u001b[39;49m\u001b[43m(\u001b[49m\u001b[43mvalue\u001b[49m\u001b[43m)\u001b[49m\u001b[43m)\u001b[49m\n\u001b[1;32m    137\u001b[0m     \u001b[38;5;28;01mif\u001b[39;00m \u001b[38;5;28mself\u001b[39m\u001b[38;5;241m.\u001b[39m_is_file \u001b[38;5;129;01mand\u001b[39;00m \u001b[38;5;129;01mnot\u001b[39;00m value\u001b[38;5;241m.\u001b[39mis_file():\n\u001b[1;32m    138\u001b[0m         \u001b[38;5;28mself\u001b[39m\u001b[38;5;241m.\u001b[39merror(objekt, name, \u001b[38;5;28mstr\u001b[39m(value))\n",
      "File \u001b[0;32m~/workspace/narps_open_pipelines/narps/lib/python3.10/site-packages/traits/base_trait_handler.py:74\u001b[0m, in \u001b[0;36mBaseTraitHandler.error\u001b[0;34m(self, object, name, value)\u001b[0m\n\u001b[1;32m     57\u001b[0m \u001b[38;5;28;01mdef\u001b[39;00m \u001b[38;5;21merror\u001b[39m(\u001b[38;5;28mself\u001b[39m, \u001b[38;5;28mobject\u001b[39m, name, value):\n\u001b[1;32m     58\u001b[0m \u001b[38;5;250m    \u001b[39m\u001b[38;5;124;03m\"\"\"Raises a TraitError exception.\u001b[39;00m\n\u001b[1;32m     59\u001b[0m \n\u001b[1;32m     60\u001b[0m \u001b[38;5;124;03m    This method is called by the validate() method when an assigned value\u001b[39;00m\n\u001b[0;32m   (...)\u001b[0m\n\u001b[1;32m     72\u001b[0m \u001b[38;5;124;03m        The proposed new value for the attribute.\u001b[39;00m\n\u001b[1;32m     73\u001b[0m \u001b[38;5;124;03m    \"\"\"\u001b[39;00m\n\u001b[0;32m---> 74\u001b[0m     \u001b[38;5;28;01mraise\u001b[39;00m TraitError(\n\u001b[1;32m     75\u001b[0m         \u001b[38;5;28mobject\u001b[39m, name, \u001b[38;5;28mself\u001b[39m\u001b[38;5;241m.\u001b[39mfull_info(\u001b[38;5;28mobject\u001b[39m, name, value), value\n\u001b[1;32m     76\u001b[0m     )\n",
      "\u001b[0;31mTraitError\u001b[0m: Each element of the 'in_files' trait of a SmoothInputSpec instance must be a pathlike object or string representing an existing file, but a value of '/home/tritbool/workspace/narps_open_pipelines/data/reproduced/NARPS-Q6O0-reproduced/intermediate_results/l1_analysis/_subject_id_001/gunzip_func/mapflow/_gunzip_func0/sub-001_task-MGT_run-01_bold_space-MNI152NLin2009cAsym_preproc.nii' <class 'str'> was specified."
     ]
    }
   ],
   "source": [
    "from nipype.utils.filemanip import loadpkl\n",
    "res = loadpkl('crash-20240405-160538-tritbool-smooth.a0-86797edd-e9b0-42ee-bc40-a2a40195eb3c.pklz')\n",
    "res"
   ]
  },
  {
   "cell_type": "code",
   "execution_count": 4,
   "id": "8d724db5",
   "metadata": {
    "ExecuteTime": {
     "end_time": "2024-04-05T14:32:02.321288Z",
     "start_time": "2024-04-05T14:32:02.318782Z"
    }
   },
   "outputs": [],
   "source": [
    "team_ID = \"Q6O0\"\n",
    "# Important directories\n",
    "## exp_dir : where the data are stored\n",
    "exp_dir = '../../data/original/ds001734/'\n",
    "\n",
    "## result_dir : where the intermediate and final results will be store\n",
    "result_dir = \"../../data/reproduced/\"\n",
    "\n",
    "## working_dir : where the intermediate outputs will be store\n",
    "working_dir = result_dir+f\"NARPS-{team_ID}-reproduced/intermediate_results/\"\n",
    "\n",
    "## output_dir : where the final results will be store\n",
    "output_dir = result_dir+f\"NARPS-{team_ID}-reproduced/\""
   ]
  },
  {
   "cell_type": "code",
   "execution_count": 5,
   "id": "fbf6f82a-8bd8-4049-96f3-0d052c1b94ee",
   "metadata": {
    "ExecuteTime": {
     "end_time": "2024-04-05T14:32:03.314213Z",
     "start_time": "2024-04-05T14:32:03.310987Z"
    }
   },
   "outputs": [
    {
     "data": {
      "text/plain": [
       "('../../data/original/ds001734/',\n",
       " '../../data/reproduced/',\n",
       " '../../data/reproduced/NARPS-Q6O0-reproduced/intermediate_results/',\n",
       " '../../data/reproduced/NARPS-Q6O0-reproduced/')"
      ]
     },
     "execution_count": 5,
     "metadata": {},
     "output_type": "execute_result"
    }
   ],
   "source": [
    "(exp_dir,\n",
    "result_dir,\n",
    "working_dir,\n",
    "output_dir)"
   ]
  },
  {
   "cell_type": "code",
   "execution_count": 6,
   "id": "532ea783",
   "metadata": {
    "ExecuteTime": {
     "end_time": "2024-04-05T14:32:03.905783Z",
     "start_time": "2024-04-05T14:32:03.900893Z"
    }
   },
   "outputs": [
    {
     "data": {
      "text/plain": [
       "(['001'], ['01', '02', '03', '04'], 1)"
      ]
     },
     "execution_count": 6,
     "metadata": {},
     "output_type": "execute_result"
    }
   ],
   "source": [
    "# Subject list (to which we will do the analysis)\n",
    "dir_list = os.listdir(exp_dir)\n",
    "\n",
    "# Subject list (to which we will do the analysis)\n",
    "subject_list = []\n",
    "for dirs in dir_list:\n",
    "    if dirs[0:3] == 'sub':\n",
    "        subject_list.append(dirs[-3:])\n",
    "# Run to use for this analysis\n",
    "run_list = ['01', '02', '03', '04']\n",
    "\n",
    "n_sub = len(subject_list)\n",
    "\n",
    "#TR\n",
    "with open(opj(exp_dir,'task-MGT_bold.json'), 'rt') as fp:\n",
    "    task_info = json.load(fp)\n",
    "TR = task_info['RepetitionTime']\n",
    "\n",
    "#FWHM to smooth (team chose a kernel of 8mm for smoothing)\n",
    "fwhm = 8\n",
    "subject_list=['001']\n",
    "n_sub=1\n",
    "(subject_list,\n",
    " run_list,\n",
    " n_sub\n",
    ")"
   ]
  },
  {
   "cell_type": "markdown",
   "id": "861e6521",
   "metadata": {},
   "source": [
    "## Subject level analysis"
   ]
  },
  {
   "cell_type": "code",
   "execution_count": 7,
   "id": "ff1a6fa6-d364-4236-a896-3b044c1775cf",
   "metadata": {
    "ExecuteTime": {
     "end_time": "2024-04-05T14:32:09.966371Z",
     "start_time": "2024-04-05T14:32:09.940087Z"
    }
   },
   "outputs": [
    {
     "data": {
      "text/plain": [
       "narps_open.pipelines.team_Q6O0.PipelineTeamQ6O0"
      ]
     },
     "execution_count": 7,
     "metadata": {},
     "output_type": "execute_result"
    }
   ],
   "source": [
    "from narps_open.pipelines import team_Q6O0\n",
    "\n",
    "class_type = getattr(\n",
    "            import_module('narps_open.pipelines.team_'+team_ID),\n",
    "            implemented_pipelines[team_ID])\n",
    "\n",
    "class_type"
   ]
  },
  {
   "cell_type": "code",
   "execution_count": 8,
   "id": "c41f39d4-9388-428f-b5bc-885003e230f2",
   "metadata": {
    "ExecuteTime": {
     "end_time": "2024-04-05T14:32:11.046527Z",
     "start_time": "2024-04-05T14:32:11.039382Z"
    }
   },
   "outputs": [],
   "source": [
    "pipe = team_Q6O0.PipelineTeamQ6O0()\n",
    "pipe.directories.dataset_dir=exp_dir\n",
    "pipe.directories.results_dir=result_dir\n",
    "pipe.directories.output_dir=output_dir\n",
    "pipe.directories.working_dir=working_dir\n",
    "pipe.subject_list=subject_list\n",
    "pipe.run_list=run_list"
   ]
  },
  {
   "cell_type": "code",
   "execution_count": 9,
   "id": "36ab8b79",
   "metadata": {
    "ExecuteTime": {
     "end_time": "2024-04-05T14:32:14.303979Z",
     "start_time": "2024-04-05T14:32:14.162208Z"
    }
   },
   "outputs": [],
   "source": [
    "l1_analysis = pipe.get_subject_level_analysis()\n",
    "#team_Q6O0.get_l1_analysis(subject_list, TR, fwhm, run_list, \n",
    "              #                               exp_dir, result_dir, working_dir, output_dir)"
   ]
  },
  {
   "cell_type": "code",
   "execution_count": 10,
   "id": "6de243b3",
   "metadata": {
    "ExecuteTime": {
     "end_time": "2024-04-05T14:33:53.781586Z",
     "start_time": "2024-04-05T14:33:39.361950Z"
    },
    "scrolled": true
   },
   "outputs": [
    {
     "name": "stdout",
     "output_type": "stream",
     "text": [
      "240405-16:50:38,327 nipype.workflow INFO:\n",
      "\t Workflow l1_analysis settings: ['check', 'execution', 'logging', 'monitoring']\n",
      "240405-16:50:38,337 nipype.workflow INFO:\n",
      "\t Running in parallel.\n",
      "240405-16:50:38,373 nipype.workflow INFO:\n",
      "\t [MultiProc] Running 0 tasks, and 3 jobs ready. Free memory (GB): 27.50/27.50, Free processors: 16/16.\n",
      "240405-16:50:38,489 nipype.workflow INFO:\n",
      "\t [Job 1] Cached (l1_analysis.contrasts_gain).\n",
      "240405-16:50:38,491 nipype.workflow INFO:\n",
      "\t [Job 2] Cached (l1_analysis.contrasts_loss).\n",
      "240405-16:50:38,489 nipype.workflow INFO:\n",
      "\t [Node] Setting-up \"l1_analysis.selectfiles\" in \"/home/tritbool/workspace/narps_open_pipelines/data/reproduced/NARPS-Q6O0-reproduced/intermediate_results/l1_analysis/_subject_id_001/selectfiles\".\n",
      "240405-16:50:38,494 nipype.workflow INFO:\n",
      "\t [Node] Executing \"selectfiles\" <nipype.interfaces.io.SelectFiles>\n",
      "240405-16:50:38,498 nipype.workflow INFO:\n",
      "\t [Node] Finished \"selectfiles\", elapsed time 0.002017s.\n",
      "240405-16:50:40,376 nipype.workflow INFO:\n",
      "\t [Job 0] Completed (l1_analysis.selectfiles).\n",
      "240405-16:50:40,379 nipype.workflow INFO:\n",
      "\t [MultiProc] Running 0 tasks, and 4 jobs ready. Free memory (GB): 27.50/27.50, Free processors: 16/16.\n",
      "240405-16:50:40,485 nipype.workflow INFO:\n",
      "\t [Node] Setting-up \"l1_analysis.subject_infos_gain\" in \"/home/tritbool/workspace/narps_open_pipelines/data/reproduced/NARPS-Q6O0-reproduced/intermediate_results/l1_analysis/_subject_id_001/subject_infos_gain\".\n",
      "240405-16:50:40,496 nipype.workflow INFO:\n",
      "\t [Node] Setting-up \"l1_analysis.subject_infos_loss\" in \"/home/tritbool/workspace/narps_open_pipelines/data/reproduced/NARPS-Q6O0-reproduced/intermediate_results/l1_analysis/_subject_id_001/subject_infos_loss\".\n",
      "240405-16:50:40,499 nipype.workflow INFO:\n",
      "\t [Node] Setting-up \"l1_analysis.parameters\" in \"/home/tritbool/workspace/narps_open_pipelines/data/reproduced/NARPS-Q6O0-reproduced/intermediate_results/l1_analysis/_subject_id_001/parameters\".\n",
      "240405-16:50:40,507 nipype.workflow INFO:\n",
      "\t [Node] Executing \"subject_infos_loss\" <nipype.interfaces.utility.wrappers.Function>\n",
      "240405-16:50:40,493 nipype.workflow INFO:\n",
      "\t [Node] Executing \"subject_infos_gain\" <nipype.interfaces.utility.wrappers.Function>\n",
      "240405-16:50:40,514 nipype.workflow INFO:\n",
      "\t [Node] Executing \"parameters\" <nipype.interfaces.utility.wrappers.Function>\n",
      "240405-16:50:40,518 nipype.workflow INFO:\n",
      "\t [Node] Finished \"subject_infos_loss\", elapsed time 0.002354s.\n",
      "240405-16:50:40,522 nipype.workflow INFO:\n",
      "\t [Node] Finished \"subject_infos_gain\", elapsed time 0.002648s.\n",
      "240405-16:50:40,815 nipype.workflow INFO:\n",
      "\t [Node] Finished \"parameters\", elapsed time 0.292218s.\n",
      "240405-16:50:42,376 nipype.workflow INFO:\n",
      "\t [Job 3] Completed (l1_analysis.subject_infos_gain).\n",
      "240405-16:50:42,377 nipype.workflow INFO:\n",
      "\t [Job 4] Completed (l1_analysis.subject_infos_loss).\n",
      "240405-16:50:42,378 nipype.workflow INFO:\n",
      "\t [Job 5] Completed (l1_analysis.parameters).\n",
      "240405-16:50:42,379 nipype.workflow INFO:\n",
      "\t [MultiProc] Running 0 tasks, and 4 jobs ready. Free memory (GB): 27.50/27.50, Free processors: 16/16.\n",
      "240405-16:50:42,432 nipype.workflow INFO:\n",
      "\t [Node] Setting-up \"_gunzip_func2\" in \"/home/tritbool/workspace/narps_open_pipelines/data/reproduced/NARPS-Q6O0-reproduced/intermediate_results/l1_analysis/_subject_id_001/gunzip_func/mapflow/_gunzip_func2\".\n",
      "240405-16:50:42,432 nipype.workflow INFO:\n",
      "\t [Node] Setting-up \"_gunzip_func1\" in \"/home/tritbool/workspace/narps_open_pipelines/data/reproduced/NARPS-Q6O0-reproduced/intermediate_results/l1_analysis/_subject_id_001/gunzip_func/mapflow/_gunzip_func1\".\n",
      "240405-16:50:42,431 nipype.workflow INFO:\n",
      "\t [Node] Setting-up \"_gunzip_func0\" in \"/home/tritbool/workspace/narps_open_pipelines/data/reproduced/NARPS-Q6O0-reproduced/intermediate_results/l1_analysis/_subject_id_001/gunzip_func/mapflow/_gunzip_func0\".\n",
      "240405-16:50:42,432 nipype.workflow INFO:\n",
      "\t [Node] Setting-up \"_gunzip_func3\" in \"/home/tritbool/workspace/narps_open_pipelines/data/reproduced/NARPS-Q6O0-reproduced/intermediate_results/l1_analysis/_subject_id_001/gunzip_func/mapflow/_gunzip_func3\".\n",
      "240405-16:50:42,435 nipype.workflow INFO:\n",
      "\t [Node] Executing \"_gunzip_func2\" <nipype.algorithms.misc.Gunzip>\n",
      "240405-16:50:42,435 nipype.workflow INFO:\n",
      "\t [Node] Executing \"_gunzip_func0\" <nipype.algorithms.misc.Gunzip>\n",
      "240405-16:50:42,435 nipype.workflow INFO:\n",
      "\t [Node] Executing \"_gunzip_func1\" <nipype.algorithms.misc.Gunzip>\n",
      "240405-16:50:42,436 nipype.workflow INFO:\n",
      "\t [Node] Executing \"_gunzip_func3\" <nipype.algorithms.misc.Gunzip>\n",
      "240405-16:50:44,379 nipype.workflow INFO:\n",
      "\t [MultiProc] Running 4 tasks, and 0 jobs ready. Free memory (GB): 26.70/27.50, Free processors: 12/16.\n",
      "                     Currently running:\n",
      "                       * _gunzip_func3\n",
      "                       * _gunzip_func2\n",
      "                       * _gunzip_func1\n",
      "                       * _gunzip_func0\n",
      "240405-16:50:51,479 nipype.workflow INFO:\n",
      "\t [Node] Finished \"_gunzip_func1\", elapsed time 9.042118s.\n",
      "240405-16:50:51,497 nipype.workflow INFO:\n",
      "\t [Node] Finished \"_gunzip_func0\", elapsed time 9.060325s.\n",
      "240405-16:50:51,545 nipype.workflow INFO:\n",
      "\t [Node] Finished \"_gunzip_func3\", elapsed time 9.107027s.\n",
      "240405-16:50:51,583 nipype.workflow INFO:\n",
      "\t [Node] Finished \"_gunzip_func2\", elapsed time 9.145638s.\n",
      "240405-16:50:52,386 nipype.workflow INFO:\n",
      "\t [Job 19] Completed (_gunzip_func0).\n",
      "240405-16:50:52,386 nipype.workflow INFO:\n",
      "\t [Job 20] Completed (_gunzip_func1).\n",
      "240405-16:50:52,387 nipype.workflow INFO:\n",
      "\t [Job 21] Completed (_gunzip_func2).\n",
      "240405-16:50:52,388 nipype.workflow INFO:\n",
      "\t [Job 22] Completed (_gunzip_func3).\n",
      "240405-16:50:52,388 nipype.workflow INFO:\n",
      "\t [MultiProc] Running 0 tasks, and 1 jobs ready. Free memory (GB): 27.50/27.50, Free processors: 16/16.\n",
      "240405-16:50:52,449 nipype.workflow INFO:\n",
      "\t [Node] Setting-up \"_gunzip_func0\" in \"/home/tritbool/workspace/narps_open_pipelines/data/reproduced/NARPS-Q6O0-reproduced/intermediate_results/l1_analysis/_subject_id_001/gunzip_func/mapflow/_gunzip_func0\".\n",
      "240405-16:50:52,452 nipype.workflow INFO:\n",
      "\t [Node] Cached \"_gunzip_func0\" - collecting precomputed outputs\n",
      "240405-16:50:52,453 nipype.workflow INFO:\n",
      "\t [Node] \"_gunzip_func0\" found cached.\n",
      "240405-16:50:52,454 nipype.workflow INFO:\n",
      "\t [Node] Setting-up \"_gunzip_func1\" in \"/home/tritbool/workspace/narps_open_pipelines/data/reproduced/NARPS-Q6O0-reproduced/intermediate_results/l1_analysis/_subject_id_001/gunzip_func/mapflow/_gunzip_func1\".\n",
      "240405-16:50:52,456 nipype.workflow INFO:\n",
      "\t [Node] Cached \"_gunzip_func1\" - collecting precomputed outputs\n",
      "240405-16:50:52,456 nipype.workflow INFO:\n",
      "\t [Node] \"_gunzip_func1\" found cached.\n",
      "240405-16:50:52,457 nipype.workflow INFO:\n",
      "\t [Node] Setting-up \"_gunzip_func2\" in \"/home/tritbool/workspace/narps_open_pipelines/data/reproduced/NARPS-Q6O0-reproduced/intermediate_results/l1_analysis/_subject_id_001/gunzip_func/mapflow/_gunzip_func2\".\n",
      "240405-16:50:52,458 nipype.workflow INFO:\n",
      "\t [Node] Cached \"_gunzip_func2\" - collecting precomputed outputs\n",
      "240405-16:50:52,459 nipype.workflow INFO:\n",
      "\t [Node] \"_gunzip_func2\" found cached.\n",
      "240405-16:50:52,460 nipype.workflow INFO:\n",
      "\t [Node] Setting-up \"_gunzip_func3\" in \"/home/tritbool/workspace/narps_open_pipelines/data/reproduced/NARPS-Q6O0-reproduced/intermediate_results/l1_analysis/_subject_id_001/gunzip_func/mapflow/_gunzip_func3\".\n",
      "240405-16:50:52,461 nipype.workflow INFO:\n",
      "\t [Node] Cached \"_gunzip_func3\" - collecting precomputed outputs\n",
      "240405-16:50:52,462 nipype.workflow INFO:\n",
      "\t [Node] \"_gunzip_func3\" found cached.\n",
      "240405-16:50:54,387 nipype.workflow INFO:\n",
      "\t [Job 6] Completed (l1_analysis.gunzip_func).\n",
      "240405-16:50:54,389 nipype.workflow INFO:\n",
      "\t [MultiProc] Running 0 tasks, and 1 jobs ready. Free memory (GB): 27.50/27.50, Free processors: 16/16.\n",
      "240405-16:50:54,444 nipype.workflow INFO:\n",
      "\t [Node] Setting-up \"l1_analysis.smooth\" in \"/home/tritbool/workspace/narps_open_pipelines/data/reproduced/NARPS-Q6O0-reproduced/intermediate_results/l1_analysis/_subject_id_001/smooth\".\n",
      "240405-16:50:54,459 nipype.workflow INFO:\n",
      "\t [Node] Executing \"smooth\" <nipype.interfaces.spm.preprocess.Smooth>\n"
     ]
    },
    {
     "name": "stderr",
     "output_type": "stream",
     "text": [
      "stty: 'standard input': Inappropriate ioctl for device\n"
     ]
    },
    {
     "name": "stdout",
     "output_type": "stream",
     "text": [
      "240405-16:50:56,390 nipype.workflow INFO:\n",
      "\t [MultiProc] Running 1 tasks, and 0 jobs ready. Free memory (GB): 27.30/27.50, Free processors: 15/16.\n",
      "                     Currently running:\n",
      "                       * l1_analysis.smooth\n"
     ]
    },
    {
     "name": "stderr",
     "output_type": "stream",
     "text": [
      "Process ForkProcess-4:\n",
      "Process ForkProcess-6:\n",
      "Process ForkProcess-2:\n",
      "Process ForkProcess-9:\n",
      "Process ForkProcess-3:\n",
      "Process ForkProcess-1:\n",
      "Process ForkProcess-11:\n",
      "Process ForkProcess-12:\n",
      "Process ForkProcess-13:\n",
      "Process ForkProcess-8:\n",
      "Process ForkProcess-14:\n",
      "Process ForkProcess-15:\n",
      "Process ForkProcess-7:\n",
      "Process ForkProcess-16:\n",
      "Traceback (most recent call last):\n",
      "Process ForkProcess-5:\n",
      "Traceback (most recent call last):\n",
      "Traceback (most recent call last):\n",
      "Traceback (most recent call last):\n",
      "  File \"/usr/lib/python3.10/multiprocessing/process.py\", line 314, in _bootstrap\n",
      "    self.run()\n",
      "Traceback (most recent call last):\n",
      "Traceback (most recent call last):\n",
      "Traceback (most recent call last):\n",
      "Traceback (most recent call last):\n",
      "Traceback (most recent call last):\n",
      "Traceback (most recent call last):\n",
      "Traceback (most recent call last):\n",
      "Traceback (most recent call last):\n",
      "  File \"/usr/lib/python3.10/multiprocessing/process.py\", line 108, in run\n",
      "    self._target(*self._args, **self._kwargs)\n",
      "  File \"/usr/lib/python3.10/multiprocessing/process.py\", line 314, in _bootstrap\n",
      "    self.run()\n",
      "  File \"/usr/lib/python3.10/multiprocessing/process.py\", line 314, in _bootstrap\n",
      "    self.run()\n",
      "  File \"/usr/lib/python3.10/multiprocessing/process.py\", line 314, in _bootstrap\n",
      "    self.run()\n",
      "Traceback (most recent call last):\n",
      "  File \"/usr/lib/python3.10/multiprocessing/process.py\", line 314, in _bootstrap\n",
      "    self.run()\n",
      "Traceback (most recent call last):\n",
      "  File \"/usr/lib/python3.10/multiprocessing/process.py\", line 314, in _bootstrap\n",
      "    self.run()\n",
      "Traceback (most recent call last):\n",
      "  File \"/usr/lib/python3.10/multiprocessing/process.py\", line 314, in _bootstrap\n",
      "    self.run()\n",
      "  File \"/usr/lib/python3.10/multiprocessing/process.py\", line 314, in _bootstrap\n",
      "    self.run()\n",
      "  File \"/usr/lib/python3.10/multiprocessing/process.py\", line 314, in _bootstrap\n",
      "    self.run()\n",
      "  File \"/usr/lib/python3.10/multiprocessing/process.py\", line 314, in _bootstrap\n",
      "    self.run()\n",
      "  File \"/usr/lib/python3.10/multiprocessing/process.py\", line 314, in _bootstrap\n",
      "    self.run()\n",
      "  File \"/usr/lib/python3.10/concurrent/futures/process.py\", line 240, in _process_worker\n",
      "    call_item = call_queue.get(block=True)\n",
      "  File \"/usr/lib/python3.10/multiprocessing/process.py\", line 108, in run\n",
      "    self._target(*self._args, **self._kwargs)\n",
      "  File \"/usr/lib/python3.10/multiprocessing/process.py\", line 314, in _bootstrap\n",
      "    self.run()\n",
      "  File \"/usr/lib/python3.10/multiprocessing/process.py\", line 108, in run\n",
      "    self._target(*self._args, **self._kwargs)\n",
      "  File \"/usr/lib/python3.10/multiprocessing/process.py\", line 314, in _bootstrap\n",
      "    self.run()\n",
      "  File \"/usr/lib/python3.10/multiprocessing/process.py\", line 108, in run\n",
      "    self._target(*self._args, **self._kwargs)\n",
      "  File \"/usr/lib/python3.10/multiprocessing/process.py\", line 314, in _bootstrap\n",
      "    self.run()\n",
      "  File \"/usr/lib/python3.10/multiprocessing/process.py\", line 108, in run\n",
      "    self._target(*self._args, **self._kwargs)\n",
      "  File \"/usr/lib/python3.10/multiprocessing/process.py\", line 108, in run\n",
      "    self._target(*self._args, **self._kwargs)\n",
      "  File \"/usr/lib/python3.10/multiprocessing/process.py\", line 108, in run\n",
      "    self._target(*self._args, **self._kwargs)\n",
      "  File \"/usr/lib/python3.10/multiprocessing/process.py\", line 314, in _bootstrap\n",
      "    self.run()\n",
      "  File \"/usr/lib/python3.10/multiprocessing/process.py\", line 108, in run\n",
      "    self._target(*self._args, **self._kwargs)\n",
      "  File \"/usr/lib/python3.10/multiprocessing/process.py\", line 108, in run\n",
      "    self._target(*self._args, **self._kwargs)\n",
      "  File \"/usr/lib/python3.10/multiprocessing/process.py\", line 108, in run\n",
      "    self._target(*self._args, **self._kwargs)\n",
      "  File \"/usr/lib/python3.10/multiprocessing/queues.py\", line 102, in get\n",
      "    with self._rlock:\n",
      "  File \"/usr/lib/python3.10/multiprocessing/process.py\", line 108, in run\n",
      "    self._target(*self._args, **self._kwargs)\n",
      "  File \"/usr/lib/python3.10/concurrent/futures/process.py\", line 240, in _process_worker\n",
      "    call_item = call_queue.get(block=True)\n",
      "  File \"/usr/lib/python3.10/multiprocessing/process.py\", line 108, in run\n",
      "    self._target(*self._args, **self._kwargs)\n",
      "  File \"/usr/lib/python3.10/concurrent/futures/process.py\", line 240, in _process_worker\n",
      "    call_item = call_queue.get(block=True)\n",
      "  File \"/usr/lib/python3.10/concurrent/futures/process.py\", line 240, in _process_worker\n",
      "    call_item = call_queue.get(block=True)\n",
      "  File \"/usr/lib/python3.10/multiprocessing/process.py\", line 108, in run\n",
      "    self._target(*self._args, **self._kwargs)\n",
      "  File \"/usr/lib/python3.10/multiprocessing/process.py\", line 108, in run\n",
      "    self._target(*self._args, **self._kwargs)\n",
      "  File \"/usr/lib/python3.10/concurrent/futures/process.py\", line 240, in _process_worker\n",
      "    call_item = call_queue.get(block=True)\n",
      "  File \"/usr/lib/python3.10/concurrent/futures/process.py\", line 240, in _process_worker\n",
      "    call_item = call_queue.get(block=True)\n",
      "  File \"/usr/lib/python3.10/concurrent/futures/process.py\", line 240, in _process_worker\n",
      "    call_item = call_queue.get(block=True)\n",
      "  File \"/usr/lib/python3.10/multiprocessing/process.py\", line 108, in run\n",
      "    self._target(*self._args, **self._kwargs)\n",
      "  File \"/usr/lib/python3.10/concurrent/futures/process.py\", line 240, in _process_worker\n",
      "    call_item = call_queue.get(block=True)\n",
      "  File \"/usr/lib/python3.10/concurrent/futures/process.py\", line 240, in _process_worker\n",
      "    call_item = call_queue.get(block=True)\n",
      "  File \"/usr/lib/python3.10/concurrent/futures/process.py\", line 240, in _process_worker\n",
      "    call_item = call_queue.get(block=True)\n",
      "  File \"/usr/lib/python3.10/concurrent/futures/process.py\", line 240, in _process_worker\n",
      "    call_item = call_queue.get(block=True)\n",
      "  File \"/usr/lib/python3.10/multiprocessing/queues.py\", line 102, in get\n",
      "    with self._rlock:\n",
      "  File \"/usr/lib/python3.10/concurrent/futures/process.py\", line 240, in _process_worker\n",
      "    call_item = call_queue.get(block=True)\n",
      "  File \"/usr/lib/python3.10/multiprocessing/queues.py\", line 102, in get\n",
      "    with self._rlock:\n",
      "  File \"/usr/lib/python3.10/concurrent/futures/process.py\", line 240, in _process_worker\n",
      "    call_item = call_queue.get(block=True)\n",
      "  File \"/usr/lib/python3.10/multiprocessing/queues.py\", line 102, in get\n",
      "    with self._rlock:\n",
      "  File \"/usr/lib/python3.10/multiprocessing/queues.py\", line 103, in get\n",
      "    res = self._recv_bytes()\n",
      "  File \"/usr/lib/python3.10/multiprocessing/synchronize.py\", line 95, in __enter__\n",
      "    return self._semlock.__enter__()\n",
      "  File \"/usr/lib/python3.10/multiprocessing/queues.py\", line 102, in get\n",
      "    with self._rlock:\n",
      "  File \"/usr/lib/python3.10/concurrent/futures/process.py\", line 240, in _process_worker\n",
      "    call_item = call_queue.get(block=True)\n",
      "  File \"/usr/lib/python3.10/multiprocessing/queues.py\", line 102, in get\n",
      "    with self._rlock:\n",
      "  File \"/usr/lib/python3.10/concurrent/futures/process.py\", line 240, in _process_worker\n",
      "    call_item = call_queue.get(block=True)\n",
      "  File \"/usr/lib/python3.10/multiprocessing/queues.py\", line 102, in get\n",
      "    with self._rlock:\n",
      "  File \"/usr/lib/python3.10/multiprocessing/queues.py\", line 102, in get\n",
      "    with self._rlock:\n",
      "  File \"/usr/lib/python3.10/multiprocessing/queues.py\", line 102, in get\n",
      "    with self._rlock:\n",
      "  File \"/usr/lib/python3.10/multiprocessing/queues.py\", line 102, in get\n",
      "    with self._rlock:\n",
      "  File \"/usr/lib/python3.10/multiprocessing/synchronize.py\", line 95, in __enter__\n",
      "    return self._semlock.__enter__()\n",
      "  File \"/usr/lib/python3.10/multiprocessing/queues.py\", line 102, in get\n",
      "    with self._rlock:\n",
      "exception calling callback for <Future at 0x7592254df5e0 state=finished raised BrokenProcessPool>\n",
      "Traceback (most recent call last):\n",
      "  File \"/usr/lib/python3.10/concurrent/futures/_base.py\", line 342, in _invoke_callbacks\n",
      "    callback(self)\n",
      "  File \"/home/tritbool/workspace/narps_open_pipelines/narps/lib/python3.10/site-packages/nipype/pipeline/plugins/multiproc.py\", line 159, in _async_callback\n",
      "    result = args.result()\n",
      "  File \"/usr/lib/python3.10/concurrent/futures/_base.py\", line 451, in result\n",
      "    return self.__get_result()\n",
      "  File \"/usr/lib/python3.10/concurrent/futures/_base.py\", line 403, in __get_result\n",
      "    raise self._exception\n",
      "concurrent.futures.process.BrokenProcessPool: A process in the process pool was terminated abruptly while the future was running or pending.\n",
      "  File \"/usr/lib/python3.10/multiprocessing/synchronize.py\", line 95, in __enter__\n",
      "    return self._semlock.__enter__()\n",
      "  File \"/usr/lib/python3.10/multiprocessing/queues.py\", line 102, in get\n",
      "    with self._rlock:\n",
      "  File \"/usr/lib/python3.10/multiprocessing/synchronize.py\", line 95, in __enter__\n",
      "    return self._semlock.__enter__()\n",
      "  File \"/usr/lib/python3.10/multiprocessing/connection.py\", line 216, in recv_bytes\n",
      "    buf = self._recv_bytes(maxlength)\n",
      "KeyboardInterrupt\n",
      "  File \"/usr/lib/python3.10/multiprocessing/queues.py\", line 102, in get\n",
      "    with self._rlock:\n",
      "  File \"/usr/lib/python3.10/multiprocessing/synchronize.py\", line 95, in __enter__\n",
      "    return self._semlock.__enter__()\n",
      "  File \"/usr/lib/python3.10/multiprocessing/synchronize.py\", line 95, in __enter__\n",
      "    return self._semlock.__enter__()\n",
      "  File \"/usr/lib/python3.10/multiprocessing/queues.py\", line 102, in get\n",
      "    with self._rlock:\n",
      "  File \"/usr/lib/python3.10/multiprocessing/synchronize.py\", line 95, in __enter__\n",
      "    return self._semlock.__enter__()\n",
      "  File \"/usr/lib/python3.10/multiprocessing/synchronize.py\", line 95, in __enter__\n",
      "    return self._semlock.__enter__()\n",
      "KeyboardInterrupt\n",
      "  File \"/usr/lib/python3.10/multiprocessing/synchronize.py\", line 95, in __enter__\n",
      "    return self._semlock.__enter__()\n",
      "  File \"/usr/lib/python3.10/multiprocessing/synchronize.py\", line 95, in __enter__\n",
      "    return self._semlock.__enter__()\n",
      "  File \"/usr/lib/python3.10/multiprocessing/synchronize.py\", line 95, in __enter__\n",
      "    return self._semlock.__enter__()\n",
      "KeyboardInterrupt\n",
      "KeyboardInterrupt\n",
      "  File \"/usr/lib/python3.10/multiprocessing/connection.py\", line 414, in _recv_bytes\n",
      "    buf = self._recv(4)\n",
      "  File \"/usr/lib/python3.10/multiprocessing/synchronize.py\", line 95, in __enter__\n",
      "    return self._semlock.__enter__()\n",
      "KeyboardInterrupt\n",
      "  File \"/usr/lib/python3.10/multiprocessing/synchronize.py\", line 95, in __enter__\n",
      "    return self._semlock.__enter__()\n",
      "  File \"/usr/lib/python3.10/multiprocessing/synchronize.py\", line 95, in __enter__\n",
      "    return self._semlock.__enter__()\n",
      "KeyboardInterrupt\n",
      "KeyboardInterrupt\n",
      "KeyboardInterrupt\n",
      "KeyboardInterrupt\n",
      "KeyboardInterrupt\n",
      "KeyboardInterrupt\n",
      "KeyboardInterrupt\n",
      "  File \"/usr/lib/python3.10/multiprocessing/connection.py\", line 379, in _recv\n",
      "    chunk = read(handle, remaining)\n",
      "KeyboardInterrupt\n",
      "KeyboardInterrupt\n",
      "KeyboardInterrupt\n"
     ]
    },
    {
     "ename": "KeyboardInterrupt",
     "evalue": "",
     "output_type": "error",
     "traceback": [
      "\u001b[0;31m---------------------------------------------------------------------------\u001b[0m",
      "\u001b[0;31mKeyboardInterrupt\u001b[0m                         Traceback (most recent call last)",
      "Cell \u001b[0;32mIn[10], line 1\u001b[0m\n\u001b[0;32m----> 1\u001b[0m \u001b[43ml1_analysis\u001b[49m\u001b[38;5;241;43m.\u001b[39;49m\u001b[43mrun\u001b[49m\u001b[43m(\u001b[49m\u001b[38;5;124;43m'\u001b[39;49m\u001b[38;5;124;43mMultiProc\u001b[39;49m\u001b[38;5;124;43m'\u001b[39;49m\u001b[43m,\u001b[49m\u001b[43m \u001b[49m\u001b[43mplugin_args\u001b[49m\u001b[38;5;241;43m=\u001b[39;49m\u001b[43m{\u001b[49m\u001b[38;5;124;43m'\u001b[39;49m\u001b[38;5;124;43mn_procs\u001b[39;49m\u001b[38;5;124;43m'\u001b[39;49m\u001b[43m:\u001b[49m\u001b[43m \u001b[49m\u001b[38;5;241;43m16\u001b[39;49m\u001b[43m}\u001b[49m\u001b[43m)\u001b[49m\n",
      "File \u001b[0;32m~/workspace/narps_open_pipelines/narps/lib/python3.10/site-packages/nipype/pipeline/engine/workflows.py:638\u001b[0m, in \u001b[0;36mWorkflow.run\u001b[0;34m(self, plugin, plugin_args, updatehash)\u001b[0m\n\u001b[1;32m    636\u001b[0m \u001b[38;5;28;01mif\u001b[39;00m str2bool(\u001b[38;5;28mself\u001b[39m\u001b[38;5;241m.\u001b[39mconfig[\u001b[38;5;124m\"\u001b[39m\u001b[38;5;124mexecution\u001b[39m\u001b[38;5;124m\"\u001b[39m][\u001b[38;5;124m\"\u001b[39m\u001b[38;5;124mcreate_report\u001b[39m\u001b[38;5;124m\"\u001b[39m]):\n\u001b[1;32m    637\u001b[0m     \u001b[38;5;28mself\u001b[39m\u001b[38;5;241m.\u001b[39m_write_report_info(\u001b[38;5;28mself\u001b[39m\u001b[38;5;241m.\u001b[39mbase_dir, \u001b[38;5;28mself\u001b[39m\u001b[38;5;241m.\u001b[39mname, execgraph)\n\u001b[0;32m--> 638\u001b[0m \u001b[43mrunner\u001b[49m\u001b[38;5;241;43m.\u001b[39;49m\u001b[43mrun\u001b[49m\u001b[43m(\u001b[49m\u001b[43mexecgraph\u001b[49m\u001b[43m,\u001b[49m\u001b[43m \u001b[49m\u001b[43mupdatehash\u001b[49m\u001b[38;5;241;43m=\u001b[39;49m\u001b[43mupdatehash\u001b[49m\u001b[43m,\u001b[49m\u001b[43m \u001b[49m\u001b[43mconfig\u001b[49m\u001b[38;5;241;43m=\u001b[39;49m\u001b[38;5;28;43mself\u001b[39;49m\u001b[38;5;241;43m.\u001b[39;49m\u001b[43mconfig\u001b[49m\u001b[43m)\u001b[49m\n\u001b[1;32m    639\u001b[0m datestr \u001b[38;5;241m=\u001b[39m datetime\u001b[38;5;241m.\u001b[39mutcnow()\u001b[38;5;241m.\u001b[39mstrftime(\u001b[38;5;124m\"\u001b[39m\u001b[38;5;124m%\u001b[39m\u001b[38;5;124mY\u001b[39m\u001b[38;5;124m%\u001b[39m\u001b[38;5;124mm\u001b[39m\u001b[38;5;132;01m%d\u001b[39;00m\u001b[38;5;124mT\u001b[39m\u001b[38;5;124m%\u001b[39m\u001b[38;5;124mH\u001b[39m\u001b[38;5;124m%\u001b[39m\u001b[38;5;124mM\u001b[39m\u001b[38;5;124m%\u001b[39m\u001b[38;5;124mS\u001b[39m\u001b[38;5;124m\"\u001b[39m)\n\u001b[1;32m    640\u001b[0m \u001b[38;5;28;01mif\u001b[39;00m str2bool(\u001b[38;5;28mself\u001b[39m\u001b[38;5;241m.\u001b[39mconfig[\u001b[38;5;124m\"\u001b[39m\u001b[38;5;124mexecution\u001b[39m\u001b[38;5;124m\"\u001b[39m][\u001b[38;5;124m\"\u001b[39m\u001b[38;5;124mwrite_provenance\u001b[39m\u001b[38;5;124m\"\u001b[39m]):\n",
      "File \u001b[0;32m~/workspace/narps_open_pipelines/narps/lib/python3.10/site-packages/nipype/pipeline/plugins/base.py:204\u001b[0m, in \u001b[0;36mDistributedPluginBase.run\u001b[0;34m(self, graph, config, updatehash)\u001b[0m\n\u001b[1;32m    201\u001b[0m         logger\u001b[38;5;241m.\u001b[39mdebug(\u001b[38;5;124m\"\u001b[39m\u001b[38;5;124mNot submitting (max jobs reached)\u001b[39m\u001b[38;5;124m\"\u001b[39m)\n\u001b[1;32m    203\u001b[0m     sleep_til \u001b[38;5;241m=\u001b[39m loop_start \u001b[38;5;241m+\u001b[39m poll_sleep_secs\n\u001b[0;32m--> 204\u001b[0m     \u001b[43msleep\u001b[49m\u001b[43m(\u001b[49m\u001b[38;5;28;43mmax\u001b[39;49m\u001b[43m(\u001b[49m\u001b[38;5;241;43m0\u001b[39;49m\u001b[43m,\u001b[49m\u001b[43m \u001b[49m\u001b[43msleep_til\u001b[49m\u001b[43m \u001b[49m\u001b[38;5;241;43m-\u001b[39;49m\u001b[43m \u001b[49m\u001b[43mtime\u001b[49m\u001b[43m(\u001b[49m\u001b[43m)\u001b[49m\u001b[43m)\u001b[49m\u001b[43m)\u001b[49m\n\u001b[1;32m    206\u001b[0m \u001b[38;5;28mself\u001b[39m\u001b[38;5;241m.\u001b[39m_remove_node_dirs()\n\u001b[1;32m    207\u001b[0m report_nodes_not_run(notrun)\n",
      "\u001b[0;31mKeyboardInterrupt\u001b[0m: "
     ]
    }
   ],
   "source": [
    "l1_analysis.run('MultiProc', plugin_args={'n_procs': 16})"
   ]
  },
  {
   "cell_type": "markdown",
   "id": "9c5ea477",
   "metadata": {},
   "source": [
    "## Group level analysis"
   ]
  },
  {
   "cell_type": "code",
   "execution_count": null,
   "id": "e77b8fba",
   "metadata": {},
   "outputs": [],
   "source": [
    "model_list = ['gain', 'loss']\n",
    "method = \"equalRange\"\n",
    "\n",
    "l2_analysis = team_Q6O0.get_l2_analysis(subject_list, n_sub, model_list, method, \n",
    "                                             exp_dir, result_dir, working_dir, output_dir)"
   ]
  },
  {
   "cell_type": "code",
   "execution_count": null,
   "id": "335d4b51",
   "metadata": {},
   "outputs": [],
   "source": [
    "l2_analysis.run('MultiProc', plugin_args={'n_procs': 2})"
   ]
  },
  {
   "cell_type": "code",
   "execution_count": null,
   "id": "26b9a551",
   "metadata": {},
   "outputs": [],
   "source": [
    "model_list = ['gain', 'loss']\n",
    "method = \"equalIndifference\"\n",
    "\n",
    "l2_analysis_equalIndifference = team_Q6O0.get_l2_analysis(subject_list, n_sub, model_list, \"equalIndifference\", exp_dir, \n",
    "                                             result_dir, working_dir, output_dir)"
   ]
  },
  {
   "cell_type": "code",
   "execution_count": null,
   "id": "1c91e675",
   "metadata": {},
   "outputs": [],
   "source": [
    "l2_analysis_equalIndifference.run('MultiProc', plugin_args={'n_procs': 2})"
   ]
  },
  {
   "cell_type": "code",
   "execution_count": null,
   "id": "30132c27",
   "metadata": {},
   "outputs": [],
   "source": [
    "model_list = ['loss']\n",
    "method = \"groupComp\"\n",
    "\n",
    "l2_analysis_groupComp = team_Q6O0.get_l2_analysis(subject_list, n_sub, model_list, method, exp_dir, \n",
    "                                             result_dir, working_dir, output_dir)"
   ]
  },
  {
   "cell_type": "code",
   "execution_count": null,
   "id": "bb7338a0",
   "metadata": {
    "scrolled": true
   },
   "outputs": [],
   "source": [
    "l2_analysis_groupComp.run('MultiProc', plugin_args={'n_procs': 2})"
   ]
  },
  {
   "cell_type": "code",
   "execution_count": null,
   "id": "5dd2c191",
   "metadata": {},
   "outputs": [],
   "source": [
    "team_Q6O0.reorganize_results(result_dir, output_dir, n_sub, team_ID)"
   ]
  },
  {
   "cell_type": "code",
   "execution_count": null,
   "id": "c3bd26bd-48de-4234-8e68-c0a49a13dee1",
   "metadata": {},
   "outputs": [],
   "source": []
  }
 ],
 "metadata": {
  "kernelspec": {
   "display_name": "Python 3 (ipykernel)",
   "language": "python",
   "name": "python3"
  },
  "language_info": {
   "codemirror_mode": {
    "name": "ipython",
    "version": 3
   },
   "file_extension": ".py",
   "mimetype": "text/x-python",
   "name": "python",
   "nbconvert_exporter": "python",
   "pygments_lexer": "ipython3",
   "version": "3.10.12"
  }
 },
 "nbformat": 4,
 "nbformat_minor": 5
}
